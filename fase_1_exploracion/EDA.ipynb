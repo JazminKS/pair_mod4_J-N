{
 "cells": [
  {
   "cell_type": "markdown",
   "metadata": {},
   "source": [
    "# Exploración y documentación - Columna por columna"
   ]
  },
  {
   "cell_type": "markdown",
   "metadata": {},
   "source": [
    "1. User_ID\n",
    "\n",
    "- Los valores de la columna inician con \"U\" mayúscula.\n",
    "- Es object \n",
    "- No tiene nulos"
   ]
  },
  {
   "cell_type": "markdown",
   "metadata": {},
   "source": [
    "2. Age \n",
    "\n",
    "- Es integer\n",
    "- No tiene nulos"
   ]
  },
  {
   "cell_type": "markdown",
   "metadata": {},
   "source": [
    "3. Gender\n",
    "\n",
    "- Es object \n",
    "- No tiene nulos"
   ]
  },
  {
   "cell_type": "markdown",
   "metadata": {},
   "source": [
    "4. Sleep_Duration \n",
    "\n",
    "- Es float\n",
    "- No tiene nulos"
   ]
  },
  {
   "cell_type": "markdown",
   "metadata": {},
   "source": [
    "5. Stress_Level     \n",
    "\n",
    "- Es integer\n",
    "- No tiene nulos"
   ]
  },
  {
   "cell_type": "markdown",
   "metadata": {},
   "source": [
    "6.  Diet_Type \n",
    "\n",
    "- Es object \n",
    "- No tiene nulos"
   ]
  },
  {
   "cell_type": "markdown",
   "metadata": {},
   "source": [
    "7. Daily_Screen_Time \n",
    "\n",
    "- Es float\n",
    "- No tiene nulos"
   ]
  },
  {
   "cell_type": "markdown",
   "metadata": {},
   "source": [
    "8. Exercise_Frequency \n",
    "\n",
    "- Es object \n",
    "- No tiene nulos"
   ]
  },
  {
   "cell_type": "markdown",
   "metadata": {},
   "source": [
    "9. Caffeine_Intake    \n",
    "\n",
    "- Es integer\n",
    "- No tiene nulos"
   ]
  },
  {
   "cell_type": "markdown",
   "metadata": {},
   "source": [
    "10. Reaction_Time \n",
    "\n",
    "- Es float\n",
    "- No tiene nulos"
   ]
  },
  {
   "cell_type": "markdown",
   "metadata": {},
   "source": [
    "11. Memory_Test_Score     \n",
    "\n",
    "- Es integer\n",
    "- No tiene nulos"
   ]
  },
  {
   "cell_type": "markdown",
   "metadata": {},
   "source": [
    "12. Cognitive_Score \n",
    "\n",
    "- Es float\n",
    "- No tiene nulos"
   ]
  },
  {
   "cell_type": "markdown",
   "metadata": {},
   "source": [
    "13. AI_Predicted_Score  \n",
    "\n",
    "- Es float\n",
    "- No tiene nulos"
   ]
  }
 ],
 "metadata": {
  "kernelspec": {
   "display_name": "base",
   "language": "python",
   "name": "python3"
  },
  "language_info": {
   "codemirror_mode": {
    "name": "ipython",
    "version": 3
   },
   "file_extension": ".py",
   "mimetype": "text/x-python",
   "name": "python",
   "nbconvert_exporter": "python",
   "pygments_lexer": "ipython3",
   "version": "3.12.7"
  }
 },
 "nbformat": 4,
 "nbformat_minor": 2
}
