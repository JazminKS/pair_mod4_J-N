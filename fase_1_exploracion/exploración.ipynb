{
 "cells": [
  {
   "cell_type": "markdown",
   "metadata": {},
   "source": [
    "## Fase 1: Análisis Exploratorio de Datos (EDA)"
   ]
  },
  {
   "cell_type": "code",
   "execution_count": 1,
   "metadata": {},
   "outputs": [],
   "source": [
    "import pandas as pd\n",
    "import numpy as np\n",
    "\n",
    "pd.set_option('display.max_columns', None)"
   ]
  },
  {
   "cell_type": "markdown",
   "metadata": {},
   "source": [
    "1. Apertura del csv."
   ]
  },
  {
   "cell_type": "code",
   "execution_count": 5,
   "metadata": {},
   "outputs": [
    {
     "data": {
      "text/html": [
       "<div>\n",
       "<style scoped>\n",
       "    .dataframe tbody tr th:only-of-type {\n",
       "        vertical-align: middle;\n",
       "    }\n",
       "\n",
       "    .dataframe tbody tr th {\n",
       "        vertical-align: top;\n",
       "    }\n",
       "\n",
       "    .dataframe thead th {\n",
       "        text-align: right;\n",
       "    }\n",
       "</style>\n",
       "<table border=\"1\" class=\"dataframe\">\n",
       "  <thead>\n",
       "    <tr style=\"text-align: right;\">\n",
       "      <th></th>\n",
       "      <th>User_ID</th>\n",
       "      <th>Age</th>\n",
       "      <th>Gender</th>\n",
       "      <th>Sleep_Duration</th>\n",
       "      <th>Stress_Level</th>\n",
       "      <th>Diet_Type</th>\n",
       "      <th>Daily_Screen_Time</th>\n",
       "      <th>Exercise_Frequency</th>\n",
       "      <th>Caffeine_Intake</th>\n",
       "      <th>Reaction_Time</th>\n",
       "      <th>Memory_Test_Score</th>\n",
       "      <th>Cognitive_Score</th>\n",
       "      <th>AI_Predicted_Score</th>\n",
       "    </tr>\n",
       "  </thead>\n",
       "  <tbody>\n",
       "    <tr>\n",
       "      <th>0</th>\n",
       "      <td>U1</td>\n",
       "      <td>57</td>\n",
       "      <td>Female</td>\n",
       "      <td>6.5</td>\n",
       "      <td>3</td>\n",
       "      <td>Non-Vegetarian</td>\n",
       "      <td>6.5</td>\n",
       "      <td>Medium</td>\n",
       "      <td>41</td>\n",
       "      <td>583.33</td>\n",
       "      <td>65</td>\n",
       "      <td>36.71</td>\n",
       "      <td>39.77</td>\n",
       "    </tr>\n",
       "    <tr>\n",
       "      <th>1</th>\n",
       "      <td>U2</td>\n",
       "      <td>39</td>\n",
       "      <td>Female</td>\n",
       "      <td>7.6</td>\n",
       "      <td>9</td>\n",
       "      <td>Non-Vegetarian</td>\n",
       "      <td>10.8</td>\n",
       "      <td>High</td>\n",
       "      <td>214</td>\n",
       "      <td>368.24</td>\n",
       "      <td>58</td>\n",
       "      <td>54.35</td>\n",
       "      <td>57.68</td>\n",
       "    </tr>\n",
       "    <tr>\n",
       "      <th>2</th>\n",
       "      <td>U3</td>\n",
       "      <td>26</td>\n",
       "      <td>Male</td>\n",
       "      <td>8.2</td>\n",
       "      <td>6</td>\n",
       "      <td>Vegetarian</td>\n",
       "      <td>5.7</td>\n",
       "      <td>Low</td>\n",
       "      <td>429</td>\n",
       "      <td>445.21</td>\n",
       "      <td>49</td>\n",
       "      <td>32.57</td>\n",
       "      <td>29.54</td>\n",
       "    </tr>\n",
       "  </tbody>\n",
       "</table>\n",
       "</div>"
      ],
      "text/plain": [
       "  User_ID  Age  Gender  Sleep_Duration  Stress_Level       Diet_Type  \\\n",
       "0      U1   57  Female             6.5             3  Non-Vegetarian   \n",
       "1      U2   39  Female             7.6             9  Non-Vegetarian   \n",
       "2      U3   26    Male             8.2             6      Vegetarian   \n",
       "\n",
       "   Daily_Screen_Time Exercise_Frequency  Caffeine_Intake  Reaction_Time  \\\n",
       "0                6.5             Medium               41         583.33   \n",
       "1               10.8               High              214         368.24   \n",
       "2                5.7                Low              429         445.21   \n",
       "\n",
       "   Memory_Test_Score  Cognitive_Score  AI_Predicted_Score  \n",
       "0                 65            36.71               39.77  \n",
       "1                 58            54.35               57.68  \n",
       "2                 49            32.57               29.54  "
      ]
     },
     "execution_count": 5,
     "metadata": {},
     "output_type": "execute_result"
    }
   ],
   "source": [
    "df_datos = pd.read_csv(\"human_cognitive_performance.csv\")\n",
    "\n",
    "df_datos.head(3)"
   ]
  },
  {
   "cell_type": "markdown",
   "metadata": {},
   "source": [
    "2. Ver las últimas filas."
   ]
  },
  {
   "cell_type": "code",
   "execution_count": 10,
   "metadata": {},
   "outputs": [
    {
     "data": {
      "text/html": [
       "<div>\n",
       "<style scoped>\n",
       "    .dataframe tbody tr th:only-of-type {\n",
       "        vertical-align: middle;\n",
       "    }\n",
       "\n",
       "    .dataframe tbody tr th {\n",
       "        vertical-align: top;\n",
       "    }\n",
       "\n",
       "    .dataframe thead th {\n",
       "        text-align: right;\n",
       "    }\n",
       "</style>\n",
       "<table border=\"1\" class=\"dataframe\">\n",
       "  <thead>\n",
       "    <tr style=\"text-align: right;\">\n",
       "      <th></th>\n",
       "      <th>User_ID</th>\n",
       "      <th>Age</th>\n",
       "      <th>Gender</th>\n",
       "      <th>Sleep_Duration</th>\n",
       "      <th>Stress_Level</th>\n",
       "      <th>Diet_Type</th>\n",
       "      <th>Daily_Screen_Time</th>\n",
       "      <th>Exercise_Frequency</th>\n",
       "      <th>Caffeine_Intake</th>\n",
       "      <th>Reaction_Time</th>\n",
       "      <th>Memory_Test_Score</th>\n",
       "      <th>Cognitive_Score</th>\n",
       "      <th>AI_Predicted_Score</th>\n",
       "    </tr>\n",
       "  </thead>\n",
       "  <tbody>\n",
       "    <tr>\n",
       "      <th>79997</th>\n",
       "      <td>U79998</td>\n",
       "      <td>32</td>\n",
       "      <td>Female</td>\n",
       "      <td>7.3</td>\n",
       "      <td>10</td>\n",
       "      <td>Non-Vegetarian</td>\n",
       "      <td>7.5</td>\n",
       "      <td>Low</td>\n",
       "      <td>462</td>\n",
       "      <td>249.57</td>\n",
       "      <td>72</td>\n",
       "      <td>63.51</td>\n",
       "      <td>67.35</td>\n",
       "    </tr>\n",
       "    <tr>\n",
       "      <th>79998</th>\n",
       "      <td>U79999</td>\n",
       "      <td>34</td>\n",
       "      <td>Male</td>\n",
       "      <td>8.7</td>\n",
       "      <td>8</td>\n",
       "      <td>Vegetarian</td>\n",
       "      <td>7.2</td>\n",
       "      <td>Medium</td>\n",
       "      <td>96</td>\n",
       "      <td>319.48</td>\n",
       "      <td>82</td>\n",
       "      <td>81.43</td>\n",
       "      <td>77.95</td>\n",
       "    </tr>\n",
       "    <tr>\n",
       "      <th>79999</th>\n",
       "      <td>U80000</td>\n",
       "      <td>41</td>\n",
       "      <td>Female</td>\n",
       "      <td>7.9</td>\n",
       "      <td>7</td>\n",
       "      <td>Vegetarian</td>\n",
       "      <td>2.0</td>\n",
       "      <td>Medium</td>\n",
       "      <td>27</td>\n",
       "      <td>263.21</td>\n",
       "      <td>42</td>\n",
       "      <td>80.39</td>\n",
       "      <td>84.45</td>\n",
       "    </tr>\n",
       "  </tbody>\n",
       "</table>\n",
       "</div>"
      ],
      "text/plain": [
       "      User_ID  Age  Gender  Sleep_Duration  Stress_Level       Diet_Type  \\\n",
       "79997  U79998   32  Female             7.3            10  Non-Vegetarian   \n",
       "79998  U79999   34    Male             8.7             8      Vegetarian   \n",
       "79999  U80000   41  Female             7.9             7      Vegetarian   \n",
       "\n",
       "       Daily_Screen_Time Exercise_Frequency  Caffeine_Intake  Reaction_Time  \\\n",
       "79997                7.5                Low              462         249.57   \n",
       "79998                7.2             Medium               96         319.48   \n",
       "79999                2.0             Medium               27         263.21   \n",
       "\n",
       "       Memory_Test_Score  Cognitive_Score  AI_Predicted_Score  \n",
       "79997                 72            63.51               67.35  \n",
       "79998                 82            81.43               77.95  \n",
       "79999                 42            80.39               84.45  "
      ]
     },
     "execution_count": 10,
     "metadata": {},
     "output_type": "execute_result"
    }
   ],
   "source": [
    "df_datos.tail(3)"
   ]
  },
  {
   "cell_type": "markdown",
   "metadata": {},
   "source": [
    "3. Ver el número total de filas y columnas."
   ]
  },
  {
   "cell_type": "code",
   "execution_count": 16,
   "metadata": {},
   "outputs": [
    {
     "data": {
      "text/plain": [
       "(80000, 13)"
      ]
     },
     "execution_count": 16,
     "metadata": {},
     "output_type": "execute_result"
    }
   ],
   "source": [
    "df_datos.shape"
   ]
  },
  {
   "cell_type": "markdown",
   "metadata": {},
   "source": [
    "4. Tener resumen del DATAFRAME, número de no valores no nulos, tipo de datos por columnas y número total de filas."
   ]
  },
  {
   "cell_type": "code",
   "execution_count": 6,
   "metadata": {},
   "outputs": [
    {
     "name": "stdout",
     "output_type": "stream",
     "text": [
      "<class 'pandas.core.frame.DataFrame'>\n",
      "RangeIndex: 80000 entries, 0 to 79999\n",
      "Data columns (total 13 columns):\n",
      " #   Column              Non-Null Count  Dtype  \n",
      "---  ------              --------------  -----  \n",
      " 0   User_ID             80000 non-null  object \n",
      " 1   Age                 80000 non-null  int64  \n",
      " 2   Gender              80000 non-null  object \n",
      " 3   Sleep_Duration      80000 non-null  float64\n",
      " 4   Stress_Level        80000 non-null  int64  \n",
      " 5   Diet_Type           80000 non-null  object \n",
      " 6   Daily_Screen_Time   80000 non-null  float64\n",
      " 7   Exercise_Frequency  80000 non-null  object \n",
      " 8   Caffeine_Intake     80000 non-null  int64  \n",
      " 9   Reaction_Time       80000 non-null  float64\n",
      " 10  Memory_Test_Score   80000 non-null  int64  \n",
      " 11  Cognitive_Score     80000 non-null  float64\n",
      " 12  AI_Predicted_Score  80000 non-null  float64\n",
      "dtypes: float64(5), int64(4), object(4)\n",
      "memory usage: 7.9+ MB\n"
     ]
    }
   ],
   "source": [
    "df_datos.info()"
   ]
  },
  {
   "cell_type": "markdown",
   "metadata": {},
   "source": [
    "5. Obtener estadísticas de los valores númericos del DataFrame y luego transponer el resultado."
   ]
  },
  {
   "cell_type": "code",
   "execution_count": 7,
   "metadata": {},
   "outputs": [
    {
     "data": {
      "text/html": [
       "<div>\n",
       "<style scoped>\n",
       "    .dataframe tbody tr th:only-of-type {\n",
       "        vertical-align: middle;\n",
       "    }\n",
       "\n",
       "    .dataframe tbody tr th {\n",
       "        vertical-align: top;\n",
       "    }\n",
       "\n",
       "    .dataframe thead th {\n",
       "        text-align: right;\n",
       "    }\n",
       "</style>\n",
       "<table border=\"1\" class=\"dataframe\">\n",
       "  <thead>\n",
       "    <tr style=\"text-align: right;\">\n",
       "      <th></th>\n",
       "      <th>count</th>\n",
       "      <th>mean</th>\n",
       "      <th>std</th>\n",
       "      <th>min</th>\n",
       "      <th>25%</th>\n",
       "      <th>50%</th>\n",
       "      <th>75%</th>\n",
       "      <th>max</th>\n",
       "    </tr>\n",
       "  </thead>\n",
       "  <tbody>\n",
       "    <tr>\n",
       "      <th>Age</th>\n",
       "      <td>80000.0</td>\n",
       "      <td>38.525525</td>\n",
       "      <td>12.101876</td>\n",
       "      <td>18.0</td>\n",
       "      <td>28.00</td>\n",
       "      <td>39.00</td>\n",
       "      <td>49.00</td>\n",
       "      <td>59.00</td>\n",
       "    </tr>\n",
       "    <tr>\n",
       "      <th>Sleep_Duration</th>\n",
       "      <td>80000.0</td>\n",
       "      <td>7.005332</td>\n",
       "      <td>1.734435</td>\n",
       "      <td>4.0</td>\n",
       "      <td>5.50</td>\n",
       "      <td>7.00</td>\n",
       "      <td>8.50</td>\n",
       "      <td>10.00</td>\n",
       "    </tr>\n",
       "    <tr>\n",
       "      <th>Stress_Level</th>\n",
       "      <td>80000.0</td>\n",
       "      <td>5.493762</td>\n",
       "      <td>2.865308</td>\n",
       "      <td>1.0</td>\n",
       "      <td>3.00</td>\n",
       "      <td>5.00</td>\n",
       "      <td>8.00</td>\n",
       "      <td>10.00</td>\n",
       "    </tr>\n",
       "    <tr>\n",
       "      <th>Daily_Screen_Time</th>\n",
       "      <td>80000.0</td>\n",
       "      <td>6.504646</td>\n",
       "      <td>3.167072</td>\n",
       "      <td>1.0</td>\n",
       "      <td>3.80</td>\n",
       "      <td>6.50</td>\n",
       "      <td>9.20</td>\n",
       "      <td>12.00</td>\n",
       "    </tr>\n",
       "    <tr>\n",
       "      <th>Caffeine_Intake</th>\n",
       "      <td>80000.0</td>\n",
       "      <td>248.988213</td>\n",
       "      <td>144.541990</td>\n",
       "      <td>0.0</td>\n",
       "      <td>123.00</td>\n",
       "      <td>249.00</td>\n",
       "      <td>375.00</td>\n",
       "      <td>499.00</td>\n",
       "    </tr>\n",
       "    <tr>\n",
       "      <th>Reaction_Time</th>\n",
       "      <td>80000.0</td>\n",
       "      <td>399.973579</td>\n",
       "      <td>115.369329</td>\n",
       "      <td>200.0</td>\n",
       "      <td>300.15</td>\n",
       "      <td>400.36</td>\n",
       "      <td>499.25</td>\n",
       "      <td>599.99</td>\n",
       "    </tr>\n",
       "    <tr>\n",
       "      <th>Memory_Test_Score</th>\n",
       "      <td>80000.0</td>\n",
       "      <td>69.498350</td>\n",
       "      <td>17.305659</td>\n",
       "      <td>40.0</td>\n",
       "      <td>55.00</td>\n",
       "      <td>70.00</td>\n",
       "      <td>85.00</td>\n",
       "      <td>99.00</td>\n",
       "    </tr>\n",
       "    <tr>\n",
       "      <th>Cognitive_Score</th>\n",
       "      <td>80000.0</td>\n",
       "      <td>58.172395</td>\n",
       "      <td>23.058522</td>\n",
       "      <td>0.0</td>\n",
       "      <td>40.91</td>\n",
       "      <td>58.36</td>\n",
       "      <td>75.83</td>\n",
       "      <td>100.00</td>\n",
       "    </tr>\n",
       "    <tr>\n",
       "      <th>AI_Predicted_Score</th>\n",
       "      <td>80000.0</td>\n",
       "      <td>58.121357</td>\n",
       "      <td>23.119598</td>\n",
       "      <td>0.0</td>\n",
       "      <td>40.85</td>\n",
       "      <td>58.36</td>\n",
       "      <td>75.89</td>\n",
       "      <td>100.00</td>\n",
       "    </tr>\n",
       "  </tbody>\n",
       "</table>\n",
       "</div>"
      ],
      "text/plain": [
       "                      count        mean         std    min     25%     50%  \\\n",
       "Age                 80000.0   38.525525   12.101876   18.0   28.00   39.00   \n",
       "Sleep_Duration      80000.0    7.005332    1.734435    4.0    5.50    7.00   \n",
       "Stress_Level        80000.0    5.493762    2.865308    1.0    3.00    5.00   \n",
       "Daily_Screen_Time   80000.0    6.504646    3.167072    1.0    3.80    6.50   \n",
       "Caffeine_Intake     80000.0  248.988213  144.541990    0.0  123.00  249.00   \n",
       "Reaction_Time       80000.0  399.973579  115.369329  200.0  300.15  400.36   \n",
       "Memory_Test_Score   80000.0   69.498350   17.305659   40.0   55.00   70.00   \n",
       "Cognitive_Score     80000.0   58.172395   23.058522    0.0   40.91   58.36   \n",
       "AI_Predicted_Score  80000.0   58.121357   23.119598    0.0   40.85   58.36   \n",
       "\n",
       "                       75%     max  \n",
       "Age                  49.00   59.00  \n",
       "Sleep_Duration        8.50   10.00  \n",
       "Stress_Level          8.00   10.00  \n",
       "Daily_Screen_Time     9.20   12.00  \n",
       "Caffeine_Intake     375.00  499.00  \n",
       "Reaction_Time       499.25  599.99  \n",
       "Memory_Test_Score    85.00   99.00  \n",
       "Cognitive_Score      75.83  100.00  \n",
       "AI_Predicted_Score   75.89  100.00  "
      ]
     },
     "execution_count": 7,
     "metadata": {},
     "output_type": "execute_result"
    }
   ],
   "source": [
    "df_datos.describe().T"
   ]
  },
  {
   "cell_type": "markdown",
   "metadata": {},
   "source": [
    "6. Obtener estadísticas de los valores categoricos del DataFrame y luego transponer el resultado."
   ]
  },
  {
   "cell_type": "code",
   "execution_count": 8,
   "metadata": {},
   "outputs": [
    {
     "data": {
      "text/html": [
       "<div>\n",
       "<style scoped>\n",
       "    .dataframe tbody tr th:only-of-type {\n",
       "        vertical-align: middle;\n",
       "    }\n",
       "\n",
       "    .dataframe tbody tr th {\n",
       "        vertical-align: top;\n",
       "    }\n",
       "\n",
       "    .dataframe thead th {\n",
       "        text-align: right;\n",
       "    }\n",
       "</style>\n",
       "<table border=\"1\" class=\"dataframe\">\n",
       "  <thead>\n",
       "    <tr style=\"text-align: right;\">\n",
       "      <th></th>\n",
       "      <th>count</th>\n",
       "      <th>unique</th>\n",
       "      <th>top</th>\n",
       "      <th>freq</th>\n",
       "    </tr>\n",
       "  </thead>\n",
       "  <tbody>\n",
       "    <tr>\n",
       "      <th>User_ID</th>\n",
       "      <td>80000</td>\n",
       "      <td>80000</td>\n",
       "      <td>U1</td>\n",
       "      <td>1</td>\n",
       "    </tr>\n",
       "    <tr>\n",
       "      <th>Gender</th>\n",
       "      <td>80000</td>\n",
       "      <td>3</td>\n",
       "      <td>Female</td>\n",
       "      <td>38404</td>\n",
       "    </tr>\n",
       "    <tr>\n",
       "      <th>Diet_Type</th>\n",
       "      <td>80000</td>\n",
       "      <td>3</td>\n",
       "      <td>Non-Vegetarian</td>\n",
       "      <td>47986</td>\n",
       "    </tr>\n",
       "    <tr>\n",
       "      <th>Exercise_Frequency</th>\n",
       "      <td>80000</td>\n",
       "      <td>3</td>\n",
       "      <td>Medium</td>\n",
       "      <td>31990</td>\n",
       "    </tr>\n",
       "  </tbody>\n",
       "</table>\n",
       "</div>"
      ],
      "text/plain": [
       "                    count unique             top   freq\n",
       "User_ID             80000  80000              U1      1\n",
       "Gender              80000      3          Female  38404\n",
       "Diet_Type           80000      3  Non-Vegetarian  47986\n",
       "Exercise_Frequency  80000      3          Medium  31990"
      ]
     },
     "execution_count": 8,
     "metadata": {},
     "output_type": "execute_result"
    }
   ],
   "source": [
    "df_datos.describe(include=\"O\").T"
   ]
  },
  {
   "cell_type": "markdown",
   "metadata": {},
   "source": [
    "7. Revisar datos duplicados."
   ]
  },
  {
   "cell_type": "code",
   "execution_count": 12,
   "metadata": {},
   "outputs": [
    {
     "data": {
      "text/html": [
       "<div>\n",
       "<style scoped>\n",
       "    .dataframe tbody tr th:only-of-type {\n",
       "        vertical-align: middle;\n",
       "    }\n",
       "\n",
       "    .dataframe tbody tr th {\n",
       "        vertical-align: top;\n",
       "    }\n",
       "\n",
       "    .dataframe thead th {\n",
       "        text-align: right;\n",
       "    }\n",
       "</style>\n",
       "<table border=\"1\" class=\"dataframe\">\n",
       "  <thead>\n",
       "    <tr style=\"text-align: right;\">\n",
       "      <th></th>\n",
       "      <th>User_ID</th>\n",
       "      <th>Age</th>\n",
       "      <th>Gender</th>\n",
       "      <th>Sleep_Duration</th>\n",
       "      <th>Stress_Level</th>\n",
       "      <th>Diet_Type</th>\n",
       "      <th>Daily_Screen_Time</th>\n",
       "      <th>Exercise_Frequency</th>\n",
       "      <th>Caffeine_Intake</th>\n",
       "      <th>Reaction_Time</th>\n",
       "      <th>Memory_Test_Score</th>\n",
       "      <th>Cognitive_Score</th>\n",
       "      <th>AI_Predicted_Score</th>\n",
       "    </tr>\n",
       "  </thead>\n",
       "  <tbody>\n",
       "  </tbody>\n",
       "</table>\n",
       "</div>"
      ],
      "text/plain": [
       "Empty DataFrame\n",
       "Columns: [User_ID, Age, Gender, Sleep_Duration, Stress_Level, Diet_Type, Daily_Screen_Time, Exercise_Frequency, Caffeine_Intake, Reaction_Time, Memory_Test_Score, Cognitive_Score, AI_Predicted_Score]\n",
       "Index: []"
      ]
     },
     "execution_count": 12,
     "metadata": {},
     "output_type": "execute_result"
    }
   ],
   "source": [
    "\n",
    "# Identificar los números duplicados\n",
    "duplicados = df_datos[df_datos['User_ID'].duplicated()]\n",
    "duplicados "
   ]
  },
  {
   "cell_type": "markdown",
   "metadata": {},
   "source": [
    "8. Ver las columnas del DataFrame."
   ]
  },
  {
   "cell_type": "code",
   "execution_count": 13,
   "metadata": {},
   "outputs": [
    {
     "data": {
      "text/plain": [
       "Index(['User_ID', 'Age', 'Gender', 'Sleep_Duration', 'Stress_Level',\n",
       "       'Diet_Type', 'Daily_Screen_Time', 'Exercise_Frequency',\n",
       "       'Caffeine_Intake', 'Reaction_Time', 'Memory_Test_Score',\n",
       "       'Cognitive_Score', 'AI_Predicted_Score'],\n",
       "      dtype='object')"
      ]
     },
     "execution_count": 13,
     "metadata": {},
     "output_type": "execute_result"
    }
   ],
   "source": [
    "df_datos.columns"
   ]
  },
  {
   "cell_type": "markdown",
   "metadata": {},
   "source": [
    "9. Ver valores únicos de la columna 'User_ID'."
   ]
  },
  {
   "cell_type": "code",
   "execution_count": 14,
   "metadata": {},
   "outputs": [
    {
     "data": {
      "text/plain": [
       "array(['U1', 'U2', 'U3', ..., 'U79998', 'U79999', 'U80000'], dtype=object)"
      ]
     },
     "execution_count": 14,
     "metadata": {},
     "output_type": "execute_result"
    }
   ],
   "source": [
    "df_datos['User_ID'].unique()"
   ]
  },
  {
   "cell_type": "markdown",
   "metadata": {},
   "source": [
    "10. Ver valores únicos de la columna 'Age'."
   ]
  },
  {
   "cell_type": "code",
   "execution_count": 17,
   "metadata": {},
   "outputs": [
    {
     "data": {
      "text/plain": [
       "array([57, 39, 26, 32, 50, 36, 48, 35, 29, 54, 18, 51, 24, 19, 21, 37, 20,\n",
       "       33, 23, 22, 46, 44, 58, 43, 45, 49, 42, 47, 38, 27, 41, 31, 56, 30,\n",
       "       55, 53, 34, 25, 59, 52, 28, 40], dtype=int64)"
      ]
     },
     "execution_count": 17,
     "metadata": {},
     "output_type": "execute_result"
    }
   ],
   "source": [
    "df_datos['Age'].unique()"
   ]
  },
  {
   "cell_type": "markdown",
   "metadata": {},
   "source": [
    "11. Ver valores únicos de la columna 'Gender'."
   ]
  },
  {
   "cell_type": "code",
   "execution_count": 18,
   "metadata": {},
   "outputs": [
    {
     "data": {
      "text/plain": [
       "array(['Female', 'Male', 'Other'], dtype=object)"
      ]
     },
     "execution_count": 18,
     "metadata": {},
     "output_type": "execute_result"
    }
   ],
   "source": [
    "df_datos['Gender'].unique()"
   ]
  },
  {
   "cell_type": "markdown",
   "metadata": {},
   "source": [
    "11. Ver valores únicos de la columna 'Sleep_Duration'."
   ]
  },
  {
   "cell_type": "code",
   "execution_count": 19,
   "metadata": {},
   "outputs": [
    {
     "data": {
      "text/plain": [
       "array([ 6.5,  7.6,  8.2,  7.8,  9.7,  7.4,  6.7,  6. ,  5.1,  7.9,  7.3,\n",
       "        9.5,  9.3,  4.6,  6.3,  7.5,  5.7,  5.8,  8.7,  8.4,  4.1,  6.9,\n",
       "        5.2,  9.4,  6.8,  4.8,  8.6,  6.6,  9.1,  8.1,  7.1,  8.3,  6.4,\n",
       "        4.2,  9. ,  9.9,  4.7,  8.5,  8. ,  8.9,  4.5,  9.6,  5.6, 10. ,\n",
       "        9.2,  5.9,  5.3,  8.8,  5. ,  5.5,  4.3,  7.2,  4.4,  4.9,  7.7,\n",
       "        6.1,  9.8,  4. ,  5.4,  6.2,  7. ])"
      ]
     },
     "execution_count": 19,
     "metadata": {},
     "output_type": "execute_result"
    }
   ],
   "source": [
    "df_datos['Sleep_Duration'].unique()"
   ]
  },
  {
   "cell_type": "markdown",
   "metadata": {},
   "source": [
    "12. Ver valores únicos de la columna 'Stress_Level'."
   ]
  },
  {
   "cell_type": "code",
   "execution_count": 20,
   "metadata": {},
   "outputs": [
    {
     "data": {
      "text/plain": [
       "array([ 3,  9,  6,  2, 10,  1,  8,  5,  7,  4], dtype=int64)"
      ]
     },
     "execution_count": 20,
     "metadata": {},
     "output_type": "execute_result"
    }
   ],
   "source": [
    "df_datos['Stress_Level'].unique()"
   ]
  },
  {
   "cell_type": "markdown",
   "metadata": {},
   "source": [
    "13. Ver valores únicos de la columna 'Diet_Type'."
   ]
  },
  {
   "cell_type": "code",
   "execution_count": 21,
   "metadata": {},
   "outputs": [
    {
     "data": {
      "text/plain": [
       "array(['Non-Vegetarian', 'Vegetarian', 'Vegan'], dtype=object)"
      ]
     },
     "execution_count": 21,
     "metadata": {},
     "output_type": "execute_result"
    }
   ],
   "source": [
    "df_datos['Diet_Type'].unique()"
   ]
  },
  {
   "cell_type": "markdown",
   "metadata": {},
   "source": [
    "14. Ver valores únicos de la columna 'Daily_Screen_Time'."
   ]
  },
  {
   "cell_type": "code",
   "execution_count": 22,
   "metadata": {},
   "outputs": [
    {
     "data": {
      "text/plain": [
       "array([ 6.5, 10.8,  5.7,  8.3, 11.3,  6.6,  1.4,  6.8, 10.2,  9.1, 11.7,\n",
       "        2.6,  5.5,  3.5,  6.1,  8.7,  3.1,  4.8,  5.6, 10.7,  4. ,  9.4,\n",
       "       11. ,  7.5, 11.6,  4.9,  8.5,  2.2,  5. , 10.4,  1.3, 10.9, 10.3,\n",
       "        5.2, 11.9,  3.7,  3.2,  4.1,  9.8,  5.1,  1.6,  5.8,  4.4,  4.6,\n",
       "        7.2,  4.7,  7.1,  9.5,  1.7,  8.6, 10.6,  3.6,  4.2,  5.9,  4.5,\n",
       "        3.4,  8. ,  1.8,  3. , 11.1,  9.2,  8.4,  9.7,  2.7,  2.4,  2.3,\n",
       "        8.2,  5.3,  1.2,  2.8,  2.1,  7. , 10.1,  8.1,  9.9,  6.2,  8.8,\n",
       "       11.5,  2.5,  7.4,  3.9,  4.3,  7.8, 10. ,  6.4,  1.9,  2.9,  6.3,\n",
       "        1.1,  6.7,  3.3,  8.9,  3.8,  9.3,  6.9, 10.5,  5.4,  7.7,  1. ,\n",
       "       11.4, 11.2, 12. ,  7.3,  2. , 11.8,  6. ,  9. ,  9.6,  1.5,  7.9,\n",
       "        7.6])"
      ]
     },
     "execution_count": 22,
     "metadata": {},
     "output_type": "execute_result"
    }
   ],
   "source": [
    "df_datos['Daily_Screen_Time'].unique()"
   ]
  },
  {
   "cell_type": "markdown",
   "metadata": {},
   "source": [
    "15. Ver valores únicos de la columna 'Exercise_Frequency'."
   ]
  },
  {
   "cell_type": "code",
   "execution_count": 23,
   "metadata": {},
   "outputs": [
    {
     "data": {
      "text/plain": [
       "array(['Medium', 'High', 'Low'], dtype=object)"
      ]
     },
     "execution_count": 23,
     "metadata": {},
     "output_type": "execute_result"
    }
   ],
   "source": [
    "df_datos['Exercise_Frequency'].unique()"
   ]
  },
  {
   "cell_type": "markdown",
   "metadata": {},
   "source": [
    "16. Ver valores únicos de la columna 'Caffeine_Intake'."
   ]
  },
  {
   "cell_type": "code",
   "execution_count": 36,
   "metadata": {},
   "outputs": [
    {
     "data": {
      "text/plain": [
       "array([ 41, 214, 429, 464, 365, 381,  39,   2, 244, 355,  50,  30, 342,\n",
       "        67, 405, 158, 147, 207, 497, 281, 100, 283, 127, 178, 492,  54,\n",
       "       218, 459, 332,   8, 156,  63, 305,  36,  86, 161, 413, 400, 414,\n",
       "       279, 208,  85,  72, 262,  28, 162, 477,   5,  12, 170, 272, 143,\n",
       "       185, 407, 172, 144,  22, 101, 241, 278, 491, 141, 291,  65, 230,\n",
       "       319,  46, 246,  10,  84,  69,  90,  68, 211, 315, 116, 379, 420,\n",
       "       243, 449, 486, 124, 317, 463, 399, 104, 448, 331, 176, 228, 323,\n",
       "       372, 398, 362, 499, 220, 363, 135, 194, 146, 415, 498, 245, 293,\n",
       "       282, 341, 456,  71, 259, 304, 377,  19, 140, 419,  34,  59, 274,\n",
       "       114,  77,  89, 470, 257,  47, 376, 351, 356, 369, 109,   4, 343,\n",
       "       494, 247, 145, 277, 154, 292, 151, 219, 391,   1, 481, 416, 349,\n",
       "       139, 295, 120, 493, 157,  64,  32,  83,  33, 385, 198, 110, 256,\n",
       "       433, 426, 314, 227, 269, 410, 231, 397,   7, 483,  18, 224, 301,\n",
       "       344, 469,  61, 411, 203,  27, 472, 242, 302, 238, 201, 396, 325,\n",
       "       367,  80, 233,  73, 455, 108,  82, 166, 438, 424,  57, 128, 466,\n",
       "       186, 229,  38, 239, 183,  94,  78, 202, 423, 403, 324,  97, 149,\n",
       "       223,  35, 434, 333,  70, 392, 368, 340, 432, 235, 482, 189, 440,\n",
       "       473, 460, 132,   9, 444, 490, 105,  43,  31, 113,  48,  25, 294,\n",
       "       284, 300, 441, 265, 374, 404, 430,  14, 253, 258, 495, 232, 297,\n",
       "       488, 193, 173, 276,  93,   6, 439, 389,  45, 270,   0, 394, 358,\n",
       "        76, 453, 409, 364, 338, 336, 401, 359, 137, 240, 313, 209, 435,\n",
       "       412, 311, 408, 237, 222, 142, 373, 200, 107, 106, 271, 160, 129,\n",
       "       454, 155, 165, 199, 375, 136, 248, 347, 303, 225, 327, 103, 121,\n",
       "       458, 134, 322, 267, 299, 117, 250, 476, 148, 182, 382,   3,  13,\n",
       "        51, 443, 175, 354, 204, 298,  15, 388, 371, 345, 167,  62, 370,\n",
       "       289, 471, 131,  87,  92, 184, 422, 484,  74,  60,  91, 452, 159,\n",
       "       210, 212, 335, 334, 383,  49, 450, 461, 467, 479, 217, 102, 191,\n",
       "       308, 468, 180, 133, 321,  26, 330, 254, 307, 196, 318, 428, 118,\n",
       "       188, 226, 465, 437, 287, 421, 360, 126, 190, 431,  66, 447,  21,\n",
       "        40, 310, 457,  98, 179, 138, 348,  53, 255, 169, 249,  88, 384,\n",
       "       115, 285,  79, 130, 111, 266, 164, 197, 395, 451, 352, 361, 329,\n",
       "       263,  58, 192, 261, 234, 425, 150, 445, 390, 337, 251,  99, 353,\n",
       "       478, 168, 213, 326, 474, 195, 378,  52, 402,  81, 252,  95, 436,\n",
       "        20, 119, 489, 177, 309, 339, 357, 122,  96,  16, 206, 380, 387,\n",
       "       273, 485,  44, 366, 181,  23, 236, 290, 275, 163, 306, 446, 280,\n",
       "       125, 153,  55, 171, 221, 442,  56, 496, 123, 462, 215, 264, 112,\n",
       "       260, 480, 187, 350,  24, 393, 296,  29,  17, 328, 427, 487, 406,\n",
       "       316, 320, 288,  75, 417, 386, 475, 216, 174, 268,  42, 346, 418,\n",
       "       205,  37, 312,  11, 152, 286], dtype=int64)"
      ]
     },
     "execution_count": 36,
     "metadata": {},
     "output_type": "execute_result"
    }
   ],
   "source": [
    "df_datos['Caffeine_Intake'].unique()"
   ]
  },
  {
   "cell_type": "markdown",
   "metadata": {},
   "source": [
    "17. Contabilizar la frecuencia de valores únicos en la columna 'Caffeine_Intake'."
   ]
  },
  {
   "cell_type": "code",
   "execution_count": 32,
   "metadata": {},
   "outputs": [
    {
     "data": {
      "text/plain": [
       "Caffeine_Intake\n",
       "217    198\n",
       "76     198\n",
       "30     196\n",
       "238    192\n",
       "46     191\n",
       "      ... \n",
       "264    134\n",
       "112    134\n",
       "173    133\n",
       "373    132\n",
       "246    132\n",
       "Name: count, Length: 500, dtype: int64"
      ]
     },
     "execution_count": 32,
     "metadata": {},
     "output_type": "execute_result"
    }
   ],
   "source": [
    "df_datos['Caffeine_Intake'].value_counts()"
   ]
  },
  {
   "cell_type": "markdown",
   "metadata": {},
   "source": [
    "18. Brindar estadistica de la columna 'Caffeine_Intake'."
   ]
  },
  {
   "cell_type": "code",
   "execution_count": 30,
   "metadata": {},
   "outputs": [
    {
     "data": {
      "text/plain": [
       "min       0.000000\n",
       "max     499.000000\n",
       "mean    248.988213\n",
       "Name: Caffeine_Intake, dtype: float64"
      ]
     },
     "execution_count": 30,
     "metadata": {},
     "output_type": "execute_result"
    }
   ],
   "source": [
    "df_datos['Caffeine_Intake'].agg(['min', 'max', 'mean']) #miligramos, diferentes bebidas con cafeina"
   ]
  },
  {
   "cell_type": "markdown",
   "metadata": {},
   "source": [
    "19. Ver valores únicos de la columna 'Reaction_Time'."
   ]
  },
  {
   "cell_type": "code",
   "execution_count": null,
   "metadata": {},
   "outputs": [
    {
     "data": {
      "text/plain": [
       "array([583.33, 368.24, 445.21, ..., 205.88, 541.65, 290.17])"
      ]
     },
     "execution_count": 33,
     "metadata": {},
     "output_type": "execute_result"
    }
   ],
   "source": [
    "df_datos['Reaction_Time'].unique() #prueba cognitiva, tiempo de reacción a estimulos, se mide en milisegundos"
   ]
  },
  {
   "cell_type": "markdown",
   "metadata": {},
   "source": [
    "20. Contabilizar la frecuencia de valores únicos en la columna 'Reaction_Time'."
   ]
  },
  {
   "cell_type": "code",
   "execution_count": 34,
   "metadata": {},
   "outputs": [
    {
     "data": {
      "text/plain": [
       "Reaction_Time\n",
       "260.11    10\n",
       "597.79     9\n",
       "567.89     9\n",
       "424.62     9\n",
       "316.02     9\n",
       "          ..\n",
       "376.12     1\n",
       "415.01     1\n",
       "512.33     1\n",
       "246.85     1\n",
       "290.17     1\n",
       "Name: count, Length: 34595, dtype: int64"
      ]
     },
     "execution_count": 34,
     "metadata": {},
     "output_type": "execute_result"
    }
   ],
   "source": [
    "df_datos['Reaction_Time'].value_counts()"
   ]
  },
  {
   "cell_type": "markdown",
   "metadata": {},
   "source": [
    "21. Brindar estadistica de la columna 'Reaction_Time'."
   ]
  },
  {
   "cell_type": "code",
   "execution_count": 35,
   "metadata": {},
   "outputs": [
    {
     "data": {
      "text/plain": [
       "min     200.000000\n",
       "max     599.990000\n",
       "mean    399.973579\n",
       "Name: Reaction_Time, dtype: float64"
      ]
     },
     "execution_count": 35,
     "metadata": {},
     "output_type": "execute_result"
    }
   ],
   "source": [
    "df_datos['Reaction_Time'].agg(['min', 'max', 'mean'])"
   ]
  },
  {
   "cell_type": "markdown",
   "metadata": {},
   "source": [
    "22. Ver valores únicos de la columna 'Memory_Test_Score'."
   ]
  },
  {
   "cell_type": "code",
   "execution_count": 37,
   "metadata": {},
   "outputs": [
    {
     "data": {
      "text/plain": [
       "array([65, 58, 49, 94, 62, 70, 51, 60, 82, 54, 69, 84, 72, 74, 44, 93, 75,\n",
       "       79, 47, 48, 68, 42, 99, 64, 95, 40, 73, 83, 98, 78, 46, 71, 89, 77,\n",
       "       61, 88, 96, 86, 67, 56, 87, 81, 91, 80, 97, 52, 59, 45, 43, 76, 57,\n",
       "       53, 85, 66, 92, 63, 50, 55, 41, 90], dtype=int64)"
      ]
     },
     "execution_count": 37,
     "metadata": {},
     "output_type": "execute_result"
    }
   ],
   "source": [
    "df_datos['Memory_Test_Score'].unique()"
   ]
  },
  {
   "cell_type": "markdown",
   "metadata": {},
   "source": [
    "23. Brindar estadistica de la columna 'Memory_Test_Score'."
   ]
  },
  {
   "cell_type": "code",
   "execution_count": 38,
   "metadata": {},
   "outputs": [
    {
     "data": {
      "text/plain": [
       "min     40.00000\n",
       "max     99.00000\n",
       "mean    69.49835\n",
       "Name: Memory_Test_Score, dtype: float64"
      ]
     },
     "execution_count": 38,
     "metadata": {},
     "output_type": "execute_result"
    }
   ],
   "source": [
    "df_datos['Memory_Test_Score'].agg(['min', 'max', 'mean'])"
   ]
  },
  {
   "cell_type": "markdown",
   "metadata": {},
   "source": [
    "24. Ver valores únicos de la columna 'Cognitive_Score'."
   ]
  },
  {
   "cell_type": "code",
   "execution_count": 39,
   "metadata": {},
   "outputs": [
    {
     "data": {
      "text/plain": [
       "array([36.71, 54.35, 32.57, ..., 13.29, 10.62, 17.77])"
      ]
     },
     "execution_count": 39,
     "metadata": {},
     "output_type": "execute_result"
    }
   ],
   "source": [
    "df_datos['Cognitive_Score'].unique()"
   ]
  },
  {
   "cell_type": "markdown",
   "metadata": {},
   "source": [
    "25. Brindar estadistica de la columna 'Cognitive_Score'."
   ]
  },
  {
   "cell_type": "code",
   "execution_count": 40,
   "metadata": {},
   "outputs": [
    {
     "data": {
      "text/plain": [
       "min       0.000000\n",
       "max     100.000000\n",
       "mean     58.172395\n",
       "Name: Cognitive_Score, dtype: float64"
      ]
     },
     "execution_count": 40,
     "metadata": {},
     "output_type": "execute_result"
    }
   ],
   "source": [
    "df_datos['Cognitive_Score'].agg(['min', 'max', 'mean'])"
   ]
  },
  {
   "cell_type": "markdown",
   "metadata": {},
   "source": [
    "26. Ver valores únicos de la columna 'AI_Predicted_Score'."
   ]
  },
  {
   "cell_type": "code",
   "execution_count": 41,
   "metadata": {},
   "outputs": [
    {
     "data": {
      "text/plain": [
       "array([39.77, 57.68, 29.54, ...,  3.98,  8.2 , 15.7 ])"
      ]
     },
     "execution_count": 41,
     "metadata": {},
     "output_type": "execute_result"
    }
   ],
   "source": [
    "df_datos['AI_Predicted_Score'].unique()"
   ]
  },
  {
   "cell_type": "markdown",
   "metadata": {},
   "source": [
    "27. Brindar estadistica de la columna 'AI_Predicted_Score'."
   ]
  },
  {
   "cell_type": "code",
   "execution_count": 42,
   "metadata": {},
   "outputs": [
    {
     "data": {
      "text/plain": [
       "min       0.000000\n",
       "max     100.000000\n",
       "mean     58.121357\n",
       "Name: AI_Predicted_Score, dtype: float64"
      ]
     },
     "execution_count": 42,
     "metadata": {},
     "output_type": "execute_result"
    }
   ],
   "source": [
    "df_datos['AI_Predicted_Score'].agg(['min', 'max', 'mean'])"
   ]
  }
 ],
 "metadata": {
  "kernelspec": {
   "display_name": "base",
   "language": "python",
   "name": "python3"
  },
  "language_info": {
   "codemirror_mode": {
    "name": "ipython",
    "version": 3
   },
   "file_extension": ".py",
   "mimetype": "text/x-python",
   "name": "python",
   "nbconvert_exporter": "python",
   "pygments_lexer": "ipython3",
   "version": "3.12.7"
  }
 },
 "nbformat": 4,
 "nbformat_minor": 2
}
