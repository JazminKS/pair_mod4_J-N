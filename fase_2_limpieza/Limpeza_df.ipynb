{
 "cells": [
  {
   "cell_type": "code",
   "execution_count": 2,
   "metadata": {},
   "outputs": [],
   "source": [
    "import pandas as pd\n",
    "import numpy as np\n",
    "\n",
    "pd.set_option('display.max_columns', None)"
   ]
  },
  {
   "cell_type": "code",
   "execution_count": 3,
   "metadata": {},
   "outputs": [
    {
     "data": {
      "text/html": [
       "<div>\n",
       "<style scoped>\n",
       "    .dataframe tbody tr th:only-of-type {\n",
       "        vertical-align: middle;\n",
       "    }\n",
       "\n",
       "    .dataframe tbody tr th {\n",
       "        vertical-align: top;\n",
       "    }\n",
       "\n",
       "    .dataframe thead th {\n",
       "        text-align: right;\n",
       "    }\n",
       "</style>\n",
       "<table border=\"1\" class=\"dataframe\">\n",
       "  <thead>\n",
       "    <tr style=\"text-align: right;\">\n",
       "      <th></th>\n",
       "      <th>User_ID</th>\n",
       "      <th>Age</th>\n",
       "      <th>Gender</th>\n",
       "      <th>Sleep_Duration</th>\n",
       "      <th>Stress_Level</th>\n",
       "      <th>Diet_Type</th>\n",
       "      <th>Daily_Screen_Time</th>\n",
       "      <th>Exercise_Frequency</th>\n",
       "      <th>Caffeine_Intake</th>\n",
       "      <th>Reaction_Time</th>\n",
       "      <th>Memory_Test_Score</th>\n",
       "      <th>Cognitive_Score</th>\n",
       "      <th>AI_Predicted_Score</th>\n",
       "    </tr>\n",
       "  </thead>\n",
       "  <tbody>\n",
       "    <tr>\n",
       "      <th>57426</th>\n",
       "      <td>U57427</td>\n",
       "      <td>54</td>\n",
       "      <td>Male</td>\n",
       "      <td>7.0</td>\n",
       "      <td>2</td>\n",
       "      <td>Vegetarian</td>\n",
       "      <td>8.2</td>\n",
       "      <td>Low</td>\n",
       "      <td>426</td>\n",
       "      <td>471.31</td>\n",
       "      <td>63</td>\n",
       "      <td>37.13</td>\n",
       "      <td>39.27</td>\n",
       "    </tr>\n",
       "    <tr>\n",
       "      <th>63100</th>\n",
       "      <td>U63101</td>\n",
       "      <td>23</td>\n",
       "      <td>Female</td>\n",
       "      <td>4.3</td>\n",
       "      <td>8</td>\n",
       "      <td>Non-Vegetarian</td>\n",
       "      <td>9.2</td>\n",
       "      <td>Low</td>\n",
       "      <td>70</td>\n",
       "      <td>492.53</td>\n",
       "      <td>73</td>\n",
       "      <td>26.81</td>\n",
       "      <td>31.69</td>\n",
       "    </tr>\n",
       "    <tr>\n",
       "      <th>23265</th>\n",
       "      <td>U23266</td>\n",
       "      <td>40</td>\n",
       "      <td>Female</td>\n",
       "      <td>9.3</td>\n",
       "      <td>4</td>\n",
       "      <td>Vegan</td>\n",
       "      <td>7.8</td>\n",
       "      <td>Medium</td>\n",
       "      <td>311</td>\n",
       "      <td>300.05</td>\n",
       "      <td>69</td>\n",
       "      <td>82.17</td>\n",
       "      <td>81.06</td>\n",
       "    </tr>\n",
       "  </tbody>\n",
       "</table>\n",
       "</div>"
      ],
      "text/plain": [
       "      User_ID  Age  Gender  Sleep_Duration  Stress_Level       Diet_Type  \\\n",
       "57426  U57427   54    Male             7.0             2      Vegetarian   \n",
       "63100  U63101   23  Female             4.3             8  Non-Vegetarian   \n",
       "23265  U23266   40  Female             9.3             4           Vegan   \n",
       "\n",
       "       Daily_Screen_Time Exercise_Frequency  Caffeine_Intake  Reaction_Time  \\\n",
       "57426                8.2                Low              426         471.31   \n",
       "63100                9.2                Low               70         492.53   \n",
       "23265                7.8             Medium              311         300.05   \n",
       "\n",
       "       Memory_Test_Score  Cognitive_Score  AI_Predicted_Score  \n",
       "57426                 63            37.13               39.27  \n",
       "63100                 73            26.81               31.69  \n",
       "23265                 69            82.17               81.06  "
      ]
     },
     "execution_count": 3,
     "metadata": {},
     "output_type": "execute_result"
    }
   ],
   "source": [
    "df_limpieza = pd.read_csv(\"human_cognitive_performance.csv\")\n",
    "\n",
    "\n",
    "df_limpieza.sample(3)"
   ]
  },
  {
   "cell_type": "markdown",
   "metadata": {},
   "source": [
    "1. Cambiar mayuscula de las columnas a miniscula."
   ]
  },
  {
   "cell_type": "code",
   "execution_count": 5,
   "metadata": {},
   "outputs": [
    {
     "data": {
      "text/plain": [
       "Index(['user_id', 'age', 'gender', 'sleep_duration', 'stress_level',\n",
       "       'diet_type', 'daily_screen_time', 'exercise_frequency',\n",
       "       'caffeine_intake', 'reaction_time', 'memory_test_score',\n",
       "       'cognitive_score', 'ai_predicted_score'],\n",
       "      dtype='object')"
      ]
     },
     "execution_count": 5,
     "metadata": {},
     "output_type": "execute_result"
    }
   ],
   "source": [
    "df_limpieza.columns"
   ]
  },
  {
   "cell_type": "code",
   "execution_count": 4,
   "metadata": {},
   "outputs": [],
   "source": [
    "\"\"\"Función para renombrar las columnas\"\"\"\n",
    "\n",
    "df_limpieza.rename(columns={columna: columna.lower() for columna in df_limpieza.columns}, inplace=True) #inplace=True, indica que la modificación se debe realizar directamente sobre el df"
   ]
  },
  {
   "cell_type": "code",
   "execution_count": 6,
   "metadata": {},
   "outputs": [
    {
     "data": {
      "text/plain": [
       "Index(['user_id', 'age', 'gender', 'sleep_duration', 'stress_level',\n",
       "       'diet_type', 'daily_screen_time', 'exercise_frequency',\n",
       "       'caffeine_intake', 'reaction_time', 'memory_test_score',\n",
       "       'cognitive_score', 'ai_predicted_score'],\n",
       "      dtype='object')"
      ]
     },
     "execution_count": 6,
     "metadata": {},
     "output_type": "execute_result"
    }
   ],
   "source": [
    "df_limpieza.columns"
   ]
  },
  {
   "cell_type": "markdown",
   "metadata": {},
   "source": [
    "2. Eliminar la \"U\" en \"user_id\""
   ]
  },
  {
   "cell_type": "code",
   "execution_count": null,
   "metadata": {},
   "outputs": [],
   "source": [
    "def limpiar_columna(serie):\n",
    "    return (\n",
    "        serie\n",
    "        .astype(str)           # aseguro que todo sea string\n",
    "        .str.replace(\"U\", \"\")  # eliminar \"U\"\n",
    "        .astype(int)         # convierto a número\n",
    "    )"
   ]
  },
  {
   "cell_type": "code",
   "execution_count": 8,
   "metadata": {},
   "outputs": [],
   "source": [
    "columnas_a_convertir = ['user_id']\n",
    "\n",
    "for col in columnas_a_convertir:\n",
    "    df_limpieza[col] = limpiar_columna(df_limpieza[col])"
   ]
  },
  {
   "cell_type": "code",
   "execution_count": 9,
   "metadata": {},
   "outputs": [
    {
     "data": {
      "text/html": [
       "<div>\n",
       "<style scoped>\n",
       "    .dataframe tbody tr th:only-of-type {\n",
       "        vertical-align: middle;\n",
       "    }\n",
       "\n",
       "    .dataframe tbody tr th {\n",
       "        vertical-align: top;\n",
       "    }\n",
       "\n",
       "    .dataframe thead th {\n",
       "        text-align: right;\n",
       "    }\n",
       "</style>\n",
       "<table border=\"1\" class=\"dataframe\">\n",
       "  <thead>\n",
       "    <tr style=\"text-align: right;\">\n",
       "      <th></th>\n",
       "      <th>user_id</th>\n",
       "      <th>age</th>\n",
       "      <th>gender</th>\n",
       "      <th>sleep_duration</th>\n",
       "      <th>stress_level</th>\n",
       "      <th>diet_type</th>\n",
       "      <th>daily_screen_time</th>\n",
       "      <th>exercise_frequency</th>\n",
       "      <th>caffeine_intake</th>\n",
       "      <th>reaction_time</th>\n",
       "      <th>memory_test_score</th>\n",
       "      <th>cognitive_score</th>\n",
       "      <th>ai_predicted_score</th>\n",
       "    </tr>\n",
       "  </thead>\n",
       "  <tbody>\n",
       "    <tr>\n",
       "      <th>51013</th>\n",
       "      <td>51014</td>\n",
       "      <td>42</td>\n",
       "      <td>Male</td>\n",
       "      <td>6.0</td>\n",
       "      <td>4</td>\n",
       "      <td>Non-Vegetarian</td>\n",
       "      <td>4.4</td>\n",
       "      <td>Low</td>\n",
       "      <td>187</td>\n",
       "      <td>552.47</td>\n",
       "      <td>77</td>\n",
       "      <td>35.08</td>\n",
       "      <td>31.55</td>\n",
       "    </tr>\n",
       "    <tr>\n",
       "      <th>60261</th>\n",
       "      <td>60262</td>\n",
       "      <td>18</td>\n",
       "      <td>Female</td>\n",
       "      <td>5.5</td>\n",
       "      <td>8</td>\n",
       "      <td>Non-Vegetarian</td>\n",
       "      <td>3.3</td>\n",
       "      <td>Low</td>\n",
       "      <td>356</td>\n",
       "      <td>459.34</td>\n",
       "      <td>72</td>\n",
       "      <td>37.37</td>\n",
       "      <td>35.81</td>\n",
       "    </tr>\n",
       "    <tr>\n",
       "      <th>41360</th>\n",
       "      <td>41361</td>\n",
       "      <td>41</td>\n",
       "      <td>Male</td>\n",
       "      <td>6.2</td>\n",
       "      <td>7</td>\n",
       "      <td>Vegetarian</td>\n",
       "      <td>7.6</td>\n",
       "      <td>Low</td>\n",
       "      <td>250</td>\n",
       "      <td>490.74</td>\n",
       "      <td>97</td>\n",
       "      <td>43.71</td>\n",
       "      <td>40.25</td>\n",
       "    </tr>\n",
       "  </tbody>\n",
       "</table>\n",
       "</div>"
      ],
      "text/plain": [
       "       user_id  age  gender  sleep_duration  stress_level       diet_type  \\\n",
       "51013    51014   42    Male             6.0             4  Non-Vegetarian   \n",
       "60261    60262   18  Female             5.5             8  Non-Vegetarian   \n",
       "41360    41361   41    Male             6.2             7      Vegetarian   \n",
       "\n",
       "       daily_screen_time exercise_frequency  caffeine_intake  reaction_time  \\\n",
       "51013                4.4                Low              187         552.47   \n",
       "60261                3.3                Low              356         459.34   \n",
       "41360                7.6                Low              250         490.74   \n",
       "\n",
       "       memory_test_score  cognitive_score  ai_predicted_score  \n",
       "51013                 77            35.08               31.55  \n",
       "60261                 72            37.37               35.81  \n",
       "41360                 97            43.71               40.25  "
      ]
     },
     "execution_count": 9,
     "metadata": {},
     "output_type": "execute_result"
    }
   ],
   "source": [
    "df_limpieza.sample(3)"
   ]
  },
  {
   "cell_type": "markdown",
   "metadata": {},
   "source": [
    "3. Convertir a indice 'user_id'."
   ]
  },
  {
   "cell_type": "code",
   "execution_count": 10,
   "metadata": {},
   "outputs": [],
   "source": [
    "df_limpieza.set_index('user_id', inplace=True)"
   ]
  },
  {
   "cell_type": "code",
   "execution_count": 11,
   "metadata": {},
   "outputs": [
    {
     "data": {
      "text/html": [
       "<div>\n",
       "<style scoped>\n",
       "    .dataframe tbody tr th:only-of-type {\n",
       "        vertical-align: middle;\n",
       "    }\n",
       "\n",
       "    .dataframe tbody tr th {\n",
       "        vertical-align: top;\n",
       "    }\n",
       "\n",
       "    .dataframe thead th {\n",
       "        text-align: right;\n",
       "    }\n",
       "</style>\n",
       "<table border=\"1\" class=\"dataframe\">\n",
       "  <thead>\n",
       "    <tr style=\"text-align: right;\">\n",
       "      <th></th>\n",
       "      <th>age</th>\n",
       "      <th>gender</th>\n",
       "      <th>sleep_duration</th>\n",
       "      <th>stress_level</th>\n",
       "      <th>diet_type</th>\n",
       "      <th>daily_screen_time</th>\n",
       "      <th>exercise_frequency</th>\n",
       "      <th>caffeine_intake</th>\n",
       "      <th>reaction_time</th>\n",
       "      <th>memory_test_score</th>\n",
       "      <th>cognitive_score</th>\n",
       "      <th>ai_predicted_score</th>\n",
       "    </tr>\n",
       "    <tr>\n",
       "      <th>user_id</th>\n",
       "      <th></th>\n",
       "      <th></th>\n",
       "      <th></th>\n",
       "      <th></th>\n",
       "      <th></th>\n",
       "      <th></th>\n",
       "      <th></th>\n",
       "      <th></th>\n",
       "      <th></th>\n",
       "      <th></th>\n",
       "      <th></th>\n",
       "      <th></th>\n",
       "    </tr>\n",
       "  </thead>\n",
       "  <tbody>\n",
       "    <tr>\n",
       "      <th>40997</th>\n",
       "      <td>37</td>\n",
       "      <td>Female</td>\n",
       "      <td>4.5</td>\n",
       "      <td>4</td>\n",
       "      <td>Non-Vegetarian</td>\n",
       "      <td>11.5</td>\n",
       "      <td>High</td>\n",
       "      <td>391</td>\n",
       "      <td>204.24</td>\n",
       "      <td>54</td>\n",
       "      <td>78.89</td>\n",
       "      <td>80.72</td>\n",
       "    </tr>\n",
       "    <tr>\n",
       "      <th>44594</th>\n",
       "      <td>45</td>\n",
       "      <td>Male</td>\n",
       "      <td>4.6</td>\n",
       "      <td>3</td>\n",
       "      <td>Non-Vegetarian</td>\n",
       "      <td>5.6</td>\n",
       "      <td>Medium</td>\n",
       "      <td>255</td>\n",
       "      <td>209.84</td>\n",
       "      <td>42</td>\n",
       "      <td>80.73</td>\n",
       "      <td>80.89</td>\n",
       "    </tr>\n",
       "    <tr>\n",
       "      <th>60414</th>\n",
       "      <td>54</td>\n",
       "      <td>Female</td>\n",
       "      <td>4.3</td>\n",
       "      <td>5</td>\n",
       "      <td>Vegetarian</td>\n",
       "      <td>1.2</td>\n",
       "      <td>High</td>\n",
       "      <td>293</td>\n",
       "      <td>349.17</td>\n",
       "      <td>75</td>\n",
       "      <td>80.24</td>\n",
       "      <td>76.67</td>\n",
       "    </tr>\n",
       "  </tbody>\n",
       "</table>\n",
       "</div>"
      ],
      "text/plain": [
       "         age  gender  sleep_duration  stress_level       diet_type  \\\n",
       "user_id                                                              \n",
       "40997     37  Female             4.5             4  Non-Vegetarian   \n",
       "44594     45    Male             4.6             3  Non-Vegetarian   \n",
       "60414     54  Female             4.3             5      Vegetarian   \n",
       "\n",
       "         daily_screen_time exercise_frequency  caffeine_intake  reaction_time  \\\n",
       "user_id                                                                         \n",
       "40997                 11.5               High              391         204.24   \n",
       "44594                  5.6             Medium              255         209.84   \n",
       "60414                  1.2               High              293         349.17   \n",
       "\n",
       "         memory_test_score  cognitive_score  ai_predicted_score  \n",
       "user_id                                                          \n",
       "40997                   54            78.89               80.72  \n",
       "44594                   42            80.73               80.89  \n",
       "60414                   75            80.24               76.67  "
      ]
     },
     "execution_count": 11,
     "metadata": {},
     "output_type": "execute_result"
    }
   ],
   "source": [
    "df_limpieza.sample(3)"
   ]
  },
  {
   "cell_type": "code",
   "execution_count": 12,
   "metadata": {},
   "outputs": [],
   "source": [
    "df_limpieza.to_csv(\"df_test.csv\")"
   ]
  }
 ],
 "metadata": {
  "kernelspec": {
   "display_name": "base",
   "language": "python",
   "name": "python3"
  },
  "language_info": {
   "codemirror_mode": {
    "name": "ipython",
    "version": 3
   },
   "file_extension": ".py",
   "mimetype": "text/x-python",
   "name": "python",
   "nbconvert_exporter": "python",
   "pygments_lexer": "ipython3",
   "version": "3.12.7"
  }
 },
 "nbformat": 4,
 "nbformat_minor": 2
}
